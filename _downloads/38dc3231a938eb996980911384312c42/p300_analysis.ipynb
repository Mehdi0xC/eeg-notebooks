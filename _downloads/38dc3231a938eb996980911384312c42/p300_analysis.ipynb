{
  "cells": [
    {
      "cell_type": "code",
      "execution_count": null,
      "metadata": {
        "collapsed": false
      },
      "outputs": [],
      "source": [
        "%matplotlib inline"
      ]
    },
    {
      "cell_type": "markdown",
      "metadata": {},
      "source": [
        "\nP300 Analysis\n===============================\n\nThis notebook runs only the data analysis part of P300 notebook.\n\nLook at the notes to see how this can be run on the web with binder or google collab.\n\nAll of the additional notes are removed; only the code cells are kept.\n"
      ]
    },
    {
      "cell_type": "code",
      "execution_count": null,
      "metadata": {
        "collapsed": false
      },
      "outputs": [],
      "source": [
        "# Imports\nfrom muselsl import stream, list_muses, view, record\nfrom multiprocessing import Process\nfrom mne import Epochs, find_events\nfrom time import time, strftime, gmtime\nimport os\n#from stimulus_presentation import n170\n#from eegnb.experiments.visual_n170 import n170\nfrom eegnb.analysis import utils\nfrom eegnb.datasets import datasets\n\nfrom collections import OrderedDict\nimport warnings\nwarnings.filterwarnings('ignore')\n\nimport pandas as pd\n\nfrom matplotlib import pyplot as plt\nimport seaborn as sns"
      ]
    },
    {
      "cell_type": "markdown",
      "metadata": {},
      "source": [
        "Skipping these steps                                                                                                  # ---------------------\n\nStep 1: Connect to an EEG Device\nStep 2: Apply the EEG Device and Wait for Signal Quality to Stabilize\nStep 3: Run the Experiment\n\n"
      ]
    },
    {
      "cell_type": "markdown",
      "metadata": {},
      "source": [
        "Load Data\n---------------------\n\nWe will use the\n`MNE sample dataset <https://mne.tools/stable/overview/datasets_index.html?#sample>`_\nwhich is a combined MEG/EEG recording with an audiovisual task.\n\nFirst we will load the dataset from MNE, have a quick look at the data,\nand extract the EEG data that we will use for this example.\n\nNote that if you are running this locally, the following cell will download\nthe example dataset, if you do not already have it.\n\n\n"
      ]
    },
    {
      "cell_type": "code",
      "execution_count": null,
      "metadata": {
        "collapsed": false
      },
      "outputs": [],
      "source": [
        "eegnb_data_path = os.path.join(os.path.expanduser('~/'),'.eegnb', 'data')    \np300_data_path = os.path.join(eegnb_data_path, 'visual-P300', 'eegnb_examples')\n\n# If dataset hasn't been downloaded yet, download it \nif not os.path.isdir(p300_data_path):\n  datasets.fetch_dataset(data_dir=eegnb_data_path, experiment='visual-P300', site='eegnb_examples')        \n\n\nsubject = 1\nsession = 1\n\nraw = utils.load_data(p300_data_path, sfreq=256., \n                              subject_nb=subject, session_nb=session)"
      ]
    },
    {
      "cell_type": "markdown",
      "metadata": {},
      "source": [
        "Visualize the power spectrum\n----------------------------\n\n"
      ]
    },
    {
      "cell_type": "code",
      "execution_count": null,
      "metadata": {
        "collapsed": false
      },
      "outputs": [],
      "source": [
        "#%matplotlib inline\nraw.plot_psd()"
      ]
    },
    {
      "cell_type": "markdown",
      "metadata": {},
      "source": [
        "Filteriing\n----------------------------\n\n"
      ]
    },
    {
      "cell_type": "code",
      "execution_count": null,
      "metadata": {
        "collapsed": false
      },
      "outputs": [],
      "source": [
        "raw.filter(1,30, method='iir')\nraw.plot_psd(fmin=1, fmax=30);"
      ]
    },
    {
      "cell_type": "markdown",
      "metadata": {},
      "source": [
        "Epoching\n----------------------------\n\n"
      ]
    },
    {
      "cell_type": "code",
      "execution_count": null,
      "metadata": {
        "collapsed": false
      },
      "outputs": [],
      "source": [
        "# Create an array containing the timestamps and type of each stimulus (i.e. face or house)\nevents = find_events(raw)\nevent_id = {'Non-Target': 1, 'Target': 2}\nepochs = Epochs(raw, events=events, event_id=event_id,\n                tmin=-0.1, tmax=0.8, baseline=None,                                                                                     reject={'eeg': 100e-6}, preload=True,                                                                                   verbose=False, picks=[0,1,2,3])\n\nprint('sample drop %: ', (1 - len(epochs.events)/len(events)) * 100)\n\nepochs"
      ]
    },
    {
      "cell_type": "markdown",
      "metadata": {},
      "source": [
        "Epoch average\n----------------------------\n\n"
      ]
    },
    {
      "cell_type": "code",
      "execution_count": null,
      "metadata": {
        "collapsed": false
      },
      "outputs": [],
      "source": [
        "#%matplotlib inline\nconditions = OrderedDict()\nconditions['Non-target'] = [1]\nconditions['Target'] = [2]\n\nfig, ax = utils.plot_conditions(epochs, conditions=conditions,\n                                        ci=97.5, n_boot=1000, title='',\n                                                                        diff_waveform=(1, 2))"
      ]
    },
    {
      "cell_type": "markdown",
      "metadata": {},
      "source": [
        "Classification\n----------------------------\n\n"
      ]
    },
    {
      "cell_type": "code",
      "execution_count": null,
      "metadata": {
        "collapsed": false
      },
      "outputs": [],
      "source": [
        "# Blah\n\nfrom sklearn.pipeline import make_pipeline\n\nfrom mne.decoding import Vectorizer\n\nfrom sklearn.linear_model import LogisticRegression\nfrom sklearn.preprocessing import StandardScaler\nfrom sklearn.discriminant_analysis import LinearDiscriminantAnalysis as LDA\n\nfrom sklearn.model_selection import cross_val_score, StratifiedShuffleSplit\n\nfrom pyriemann.estimation import ERPCovariances\nfrom pyriemann.tangentspace import TangentSpace\nfrom pyriemann.classification import MDM\nfrom pyriemann.spatialfilters import Xdawn\n\nfrom collections import OrderedDict\n\nclfs = OrderedDict()\n\nclfs['Vect + LR'] = make_pipeline(Vectorizer(), StandardScaler(), LogisticRegression())\nclfs['Vect + RegLDA'] = make_pipeline(Vectorizer(), LDA(shrinkage='auto', solver='eigen'))\nclfs['Xdawn + RegLDA'] = make_pipeline(Xdawn(2, classes=[1]), Vectorizer(), LDA(shrinkage='auto', solver='eigen'))\nclfs['ERPCov + TS'] = make_pipeline(ERPCovariances(), TangentSpace(), LogisticRegression())\nclfs['ERPCov + MDM'] = make_pipeline(ERPCovariances(), MDM())\n\n# format data\nepochs.pick_types(eeg=True)\nX = epochs.get_data() * 1e6\ntimes = epochs.times\ny = epochs.events[:, -1]\n\n# define cross validation \ncv = StratifiedShuffleSplit(n_splits=10, test_size=0.25, random_state=42)\n\n# run cross validation for each pipeline\nauc = []\nmethods = []\nfor m in clfs:\n    res = cross_val_score(clfs[m], X, y==2, scoring='roc_auc', cv=cv, n_jobs=-1)\n    auc.extend(res)\n    methods.extend([m]*len(res))\n    \nresults = pd.DataFrame(data=auc, columns=['AUC'])\nresults['Method'] = methods\n\nplt.figure(figsize=[8,4])\nsns.barplot(data=results, x='AUC', y='Method')\nplt.xlim(0.2, 0.85)\nsns.despine()"
      ]
    },
    {
      "cell_type": "markdown",
      "metadata": {},
      "source": [
        "Conclusions\n----------------------------\n\n"
      ]
    },
    {
      "cell_type": "code",
      "execution_count": null,
      "metadata": {
        "collapsed": false
      },
      "outputs": [],
      "source": [
        "# Blah"
      ]
    }
  ],
  "metadata": {
    "kernelspec": {
      "display_name": "Python 3",
      "language": "python",
      "name": "python3"
    },
    "language_info": {
      "codemirror_mode": {
        "name": "ipython",
        "version": 3
      },
      "file_extension": ".py",
      "mimetype": "text/x-python",
      "name": "python",
      "nbconvert_exporter": "python",
      "pygments_lexer": "ipython3",
      "version": "3.7.6"
    }
  },
  "nbformat": 4,
  "nbformat_minor": 0
}