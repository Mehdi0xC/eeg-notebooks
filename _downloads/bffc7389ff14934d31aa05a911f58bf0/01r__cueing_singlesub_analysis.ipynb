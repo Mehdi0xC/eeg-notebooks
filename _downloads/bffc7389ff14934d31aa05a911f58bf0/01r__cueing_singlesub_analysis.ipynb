{
  "cells": [
    {
      "cell_type": "code",
      "execution_count": null,
      "metadata": {
        "collapsed": false
      },
      "outputs": [],
      "source": [
        "%matplotlib inline"
      ]
    },
    {
      "cell_type": "markdown",
      "metadata": {},
      "source": [
        "\nCueing Single Subject Analysis\n===============================\n\nThe cueing task can ellicit a number of reliable changes. A central cue indicates the location of an upcoming target onset. Here the task can be changed to be perfectly predictive, or have some level of cue validity. Task is to indicate the orientation of a spatial grating on the target, up for vertical, right for horizontal.\n\nERP - Validly cued targets ellict larger ERP's than invalidly cued targets\n\nResponse ERPs - Validly cued targets are more quickly identified and better identified\n\nOscillations - Alpha power lateralizes after a spatial cue onset preceeding the upcoming onset of a target. Alpha power becomes smaller contraleral to the target side, and larger ipsilateral with the target.\n"
      ]
    },
    {
      "cell_type": "code",
      "execution_count": null,
      "metadata": {
        "collapsed": false
      },
      "outputs": [],
      "source": [
        "# Imports\nfrom mne import Epochs, find_events, concatenate_raws\nfrom mne.time_frequency import tfr_morlet\nimport numpy as np\nimport os\n#from utils import utils\nfrom collections import OrderedDict\nimport warnings\nwarnings.filterwarnings('ignore')\nfrom matplotlib import pyplot as plt\nimport matplotlib.patches as patches\n\nfrom eegnb.datasets import datasets\nfrom eegnb.analysis import utils\n\n# sphinx_gallery_thumbnail_number = 1"
      ]
    },
    {
      "cell_type": "markdown",
      "metadata": {},
      "source": [
        "Download the data\n-----------------------------\n\n"
      ]
    },
    {
      "cell_type": "code",
      "execution_count": null,
      "metadata": {
        "collapsed": false
      },
      "outputs": [],
      "source": [
        "eegnb_data_path = os.path.join(os.path.expanduser('~/'),'.eegnb', 'data')\ncueing_data_path = os.path.join(eegnb_data_path, 'visual-cueing', 'kylemathlab_dev')\n\n# If dataset hasn't been downloaded yet, download it\nif not os.path.isdir(cueing_data_path):\n      datasets.fetch_dataset(data_dir=eegnb_data_path, experiment='visual-cueing', site='kylemathlab_dev')"
      ]
    },
    {
      "cell_type": "markdown",
      "metadata": {},
      "source": [
        "Prepare the Data for Analysis\n-----------------------------\n\n"
      ]
    },
    {
      "cell_type": "code",
      "execution_count": null,
      "metadata": {
        "collapsed": false
      },
      "outputs": [],
      "source": [
        "# Once a suitable data set has been collected, it is now time to analyze the data and see if we can identify the cueing effects\n\n# Load data into MNE objects MNE is a very powerful Python library for analyzing EEG data. It provides helpful functions for performing key tasks such as filtering EEG data, rejecting artifacts, and grouping EEG data into chunks (epochs).\n\n# The first step after loading dependencies is use MNE to read the data we've collected into an MNE Raw object"
      ]
    },
    {
      "cell_type": "code",
      "execution_count": null,
      "metadata": {
        "collapsed": false
      },
      "outputs": [],
      "source": [
        "sub = 302\nraw = utils.load_data(eegnb_data_path, experiment='visual-cueing',site='kylemathlab_dev',sfreq=256., \n                      subject_nb=sub, session_nb=1)\n\nraw.append(\n      utils.load_data(eegnb_data_path,experiment='visual-cueing', site='kylemathlab_dev', sfreq=256., \n                      subject_nb=sub, session_nb=2))\n\n\n# Plot raw data\n\nraw.plot();"
      ]
    },
    {
      "cell_type": "markdown",
      "metadata": {},
      "source": [
        "Power Spectral Density\n-----------------------------\n\n"
      ]
    },
    {
      "cell_type": "code",
      "execution_count": null,
      "metadata": {
        "collapsed": false
      },
      "outputs": [],
      "source": [
        "# One way to analyze the SSVEP is to plot the power spectral density, or PSD. SSVEPs should appear as peaks in power for certain frequencies. We expect clear peaks in the spectral domain at the stimulation frequencies of 30 and 20 Hz.\n\nraw.plot_psd();\n\n# Should see the electrical noise at 60 Hz, and maybe a peak at the red and blue channels between 7-14 Hz (Alpha)"
      ]
    },
    {
      "cell_type": "markdown",
      "metadata": {},
      "source": [
        "Filtering\n-----------------------------\n\n"
      ]
    },
    {
      "cell_type": "code",
      "execution_count": null,
      "metadata": {
        "collapsed": false
      },
      "outputs": [],
      "source": [
        "# Most ERP components are composed of lower frequency fluctuations in the EEG signal. Thus, we can filter out all frequencies between 1 and 30 hz in order to increase our ability to detect them.\n\nraw.filter(1,30, method='iir')\nraw.plot_psd(fmin=1, fmax=30);"
      ]
    },
    {
      "cell_type": "markdown",
      "metadata": {},
      "source": [
        "Epoching\n-----------------------------\n\n"
      ]
    },
    {
      "cell_type": "code",
      "execution_count": null,
      "metadata": {
        "collapsed": false
      },
      "outputs": [],
      "source": [
        "# Next, we will chunk (epoch) the data into segments representing the data 1000ms before to 2000ms after each cue, we will reject every epoch where the amplitude of the signal exceeded 100 uV, which should most eye blinks.\n\nevents = find_events(raw)\nevent_id = {'LeftCue': 1, 'RightCue': 2}\n\nrej_thresh_uV = 150\nrej_thresh = rej_thresh_uV*1e-6\n\nepochs = Epochs(raw, events=events, event_id=event_id, \n                tmin=-1, tmax=2, baseline=(-1, 0), \n                reject={'eeg':rej_thresh}, preload=True,\n                verbose=False, picks=[0, 1, 2, 3])\n\nprint('sample drop %: ', (1 - len(epochs.events)/len(events)) * 100)\n\nconditions = OrderedDict()\nconditions['LeftCue'] = [1]\nconditions['RightCue'] = [2]\n\nfig, ax = utils.plot_conditions(epochs, conditions=conditions, \n                                ci=97.5, n_boot=1000, title='',\n                                diff_waveform=(1, 2), ylim=(-20,20))"
      ]
    },
    {
      "cell_type": "markdown",
      "metadata": {},
      "source": [
        "Spectrogram\n-----------------------------\n\n"
      ]
    },
    {
      "cell_type": "code",
      "execution_count": null,
      "metadata": {
        "collapsed": false
      },
      "outputs": [],
      "source": [
        "# We can also look for SSVEPs in the spectrogram, which uses color to represent the power of frequencies in the EEG signal over time\n\nfrequencies =  np.linspace(6, 30, 100, endpoint=True)\n\nwave_cycles = 6\n\n # Compute morlet wavelet\n\n# Left Cue\ntfr, itc = tfr_morlet(epochs['LeftCue'], freqs=frequencies, \n                      n_cycles=wave_cycles, return_itc=True)\ntfr = tfr.apply_baseline([-1,-.5],mode='mean')\ntfr.plot(picks=[0], mode='logratio', \n         title='TP9 - Ipsi');\ntfr.plot(picks=[1], mode='logratio', \n         title='TP10 - Contra');\npower_Ipsi_TP9 = tfr.data[0,:,:]\npower_Contra_TP10 = tfr.data[1,:,:]\n\n# Right Cue\ntfr, itc = tfr_morlet(epochs['RightCue'], freqs=frequencies, \n                      n_cycles=wave_cycles, return_itc=True)\ntfr = tfr.apply_baseline([-1,-.5],mode='mean')\ntfr.plot(picks=[0], mode='logratio', \n         title='TP9 - Contra');\ntfr.plot(picks=[1], mode='logratio', \n         title='TP10 - Ipsi');\npower_Contra_TP9 = tfr.data[0,:,:]\npower_Ipsi_TP10 = tfr.data[1,:,:]"
      ]
    },
    {
      "cell_type": "markdown",
      "metadata": {},
      "source": [
        "Now we compute and plot the differences\n-----------------------------\n\n"
      ]
    },
    {
      "cell_type": "code",
      "execution_count": null,
      "metadata": {
        "collapsed": false
      },
      "outputs": [],
      "source": [
        "# time frequency window for analysis\nf_low = 7 # Hz\nf_high = 10\nf_diff = f_high-f_low\n \nt_low = 0 # s\nt_high = 1\nt_diff = t_high-t_low\n\n# Plot Differences\n# %matplotlib inline\ntimes = epochs.times\npower_Avg_Ipsi =   (power_Ipsi_TP9+power_Ipsi_TP10)/2;\npower_Avg_Contra = (power_Contra_TP9+power_Contra_TP10)/2;\npower_Avg_Diff = power_Avg_Ipsi-power_Avg_Contra;\n\n\n#find max to make color range\nplot_max = np.max([np.max(np.abs(power_Avg_Ipsi)), np.max(np.abs(power_Avg_Contra))])\nplot_diff_max = np.max(np.abs(power_Avg_Diff))\n\n#Ipsi\nfig, ax = plt.subplots(1)\nim = plt.imshow(power_Avg_Ipsi,\n           extent=[times[0], times[-1], frequencies[0], frequencies[-1]],\n           aspect='auto', origin='lower', cmap='coolwarm', vmin=-plot_max, vmax=plot_max)\nplt.xlabel('Time (sec)')\nplt.ylabel('Frequency (Hz)')\nplt.title('Power Average Ipsilateral to Cue')\ncb = fig.colorbar(im)\ncb.set_label('Power')\n# Create a Rectangle patch\nrect = patches.Rectangle((t_low,f_low),t_diff,f_diff,linewidth=1,edgecolor='k',facecolor='none')\n# Add the patch to the Axes\nax.add_patch(rect)\n\n#TP10\nfig, ax = plt.subplots(1)\nim = plt.imshow(power_Avg_Contra,\n           extent=[times[0], times[-1], frequencies[0], frequencies[-1]],\n           aspect='auto', origin='lower', cmap='coolwarm', vmin=-plot_max, vmax=plot_max)\nplt.xlabel('Time (sec)')\nplt.ylabel('Frequency (Hz)')\nplt.title(str(sub) + ' - Power Average Contra to Cue')\ncb = fig.colorbar(im)\ncb.set_label('Power')\n# Create a Rectangle patch\nrect = patches.Rectangle((t_low,f_low),t_diff,f_diff,linewidth=1,edgecolor='k',facecolor='none')\n# Add the patch to the Axes\nax.add_patch(rect)\n\n#difference between conditions\nfig, ax = plt.subplots(1)\nim = plt.imshow(power_Avg_Diff,\n           extent=[times[0], times[-1], frequencies[0], frequencies[-1]],\n           aspect='auto', origin='lower', cmap='coolwarm', vmin=-plot_diff_max, vmax=plot_diff_max)\nplt.xlabel('Time (sec)')\nplt.ylabel('Frequency (Hz)')\nplt.title('Power Difference Ipsi-Contra')\ncb = fig.colorbar(im)\ncb.set_label('Ipsi-Contra Power')\n# Create a Rectangle patch\nrect = patches.Rectangle((t_low,f_low),t_diff,f_diff,linewidth=1,edgecolor='k',facecolor='none')\n# Add the patch to the Axes\nax.add_patch(rect)\n\n\n# We expect greater alpha power ipsilateral to the cue direction (positive values) from 0 to 1.5 seconds"
      ]
    },
    {
      "cell_type": "markdown",
      "metadata": {},
      "source": [
        "Target Epoching\n-----------------------------\n\n"
      ]
    },
    {
      "cell_type": "code",
      "execution_count": null,
      "metadata": {
        "collapsed": false
      },
      "outputs": [],
      "source": [
        "# Next, we will chunk (epoch) the data into segments representing the data .200ms before to 1000ms after each target, we will reject every epoch where the amplitude of the signal exceeded ? uV, which should most eye blinks.\n\nevents = find_events(raw)\nevent_id = {'InvalidTarget_Left': 11, 'InvalidTarget_Right': 12,\n           'ValidTarget_Left': 21,'ValidTarget_Right': 11}\n\nepochs = Epochs(raw, events=events, event_id=event_id, \n                tmin=-.2, tmax=1, baseline=(-.2, 0), \n                reject={'eeg':.0001}, preload=True,\n                verbose=False, picks=[0, 1, 2, 3])\nprint('sample drop %: ', (1 - len(epochs.events)/len(events)) * 100)\n\n#%matplotlib inline\nconditions = OrderedDict()\nconditions['ValidTarget'] = [21,22]\nconditions['InvalidTarget'] = [11,12]\n\nfig, ax = utils.plot_conditions(epochs, conditions=conditions, \n                                ci=97.5, n_boot=1000, title='',\n                                diff_waveform=(1, 2), ylim=(-20,20))"
      ]
    },
    {
      "cell_type": "markdown",
      "metadata": {},
      "source": [
        "Conclusions\n----------------------------\n\n"
      ]
    },
    {
      "cell_type": "code",
      "execution_count": null,
      "metadata": {
        "collapsed": false
      },
      "outputs": [],
      "source": [
        "# Blah"
      ]
    }
  ],
  "metadata": {
    "kernelspec": {
      "display_name": "Python 3",
      "language": "python",
      "name": "python3"
    },
    "language_info": {
      "codemirror_mode": {
        "name": "ipython",
        "version": 3
      },
      "file_extension": ".py",
      "mimetype": "text/x-python",
      "name": "python",
      "nbconvert_exporter": "python",
      "pygments_lexer": "ipython3",
      "version": "3.7.6"
    }
  },
  "nbformat": 4,
  "nbformat_minor": 0
}